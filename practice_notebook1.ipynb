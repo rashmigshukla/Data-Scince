{
  "nbformat": 4,
  "nbformat_minor": 0,
  "metadata": {
    "colab": {
      "provenance": [],
      "authorship_tag": "ABX9TyNRSejwUZhiMZn3KFgiS67Y",
      "include_colab_link": true
    },
    "kernelspec": {
      "name": "python3",
      "display_name": "Python 3"
    },
    "language_info": {
      "name": "python"
    }
  },
  "cells": [
    {
      "cell_type": "markdown",
      "metadata": {
        "id": "view-in-github",
        "colab_type": "text"
      },
      "source": [
        "<a href=\"https://colab.research.google.com/github/rashmigshukla/Data-Scince/blob/main/practice_notebook1.ipynb\" target=\"_parent\"><img src=\"https://colab.research.google.com/assets/colab-badge.svg\" alt=\"Open In Colab\"/></a>"
      ]
    },
    {
      "cell_type": "markdown",
      "source": [
        "# Exercise1.ipynb"
      ],
      "metadata": {
        "id": "03Lhis3O54zq"
      }
    },
    {
      "cell_type": "markdown",
      "source": [
        "### This markdown cell contains the introduction to data science. Data Science enables to draw insights for future from the past data."
      ],
      "metadata": {
        "id": "2_LcztSX6T4f"
      }
    },
    {
      "cell_type": "markdown",
      "source": [
        "### Following are some of the data science languages\n",
        "#### 1. Python\n",
        "#### 2. R\n",
        "#### 3. SQL\n",
        "#### 4. Java\n",
        "#### 5. Julia\n",
        "#### 6. Scala\n",
        "#### 7. Javascript\n",
        "#### 8. Swift"
      ],
      "metadata": {
        "id": "P-VPGu8s6uVS"
      }
    },
    {
      "cell_type": "markdown",
      "source": [
        "### Following are the list of data science libraries in Python\n",
        "#### 1. Tensorflow\n",
        "#### 2. Numpy\n",
        "#### 3. Scipy\n",
        "#### 4. Pandas\n",
        "#### 5. Matplotlib\n",
        "#### 6. Keras\n",
        "#### 7. Pytorch\n",
        "#### 8. Scikit-Learn"
      ],
      "metadata": {
        "id": "BTmCOkX-7TK-"
      }
    },
    {
      "cell_type": "markdown",
      "source": [
        "### Following are the list of data science tools\n",
        "|Data Science Tools|\n",
        "|---|\n",
        "|SAS|\n",
        "|Apache Spark|\n",
        "|Matlab|\n",
        "|Excel|\n",
        "|Tableu|\n",
        "|Jupytor|\n",
        "|Matplotlib|\n",
        "|RapidMiner|\n",
        "|R Studio|\n",
        "\n"
      ],
      "metadata": {
        "id": "YoSs_Lsg8YV-"
      }
    },
    {
      "cell_type": "markdown",
      "source": [
        "### This Markdown cell introduces the Arithmetic Expressions\n",
        "There are four basic arithmetic expressions: \n",
        "Addition, Subtraction, Multiplication and Division.\n",
        "##### Addition is to sum values to get combined values. For e.g, 2+4 is 6\n",
        "##### Subtraction represnts removal of objects from a collection. For e.g, 6-2 is 4\n",
        "##### Multiplication of two numbers can be thought of as repeated addition. The result of multiplication is called product. For e.g, 7*3 is 21\n",
        "##### Division is dividing an entity into parts. For e.g, 24/3 is 8\n"
      ],
      "metadata": {
        "id": "LfZ9VvuS-LbH"
      }
    },
    {
      "cell_type": "code",
      "source": [
        "num1=4\n",
        "num2=8\n",
        "addition= num1+num2\n",
        "Product= num1*num2\n",
        "print (\"Addition of num1 and num2 is\", addition)\n",
        "print (\"Multiplication os num1 and num2 is \", Product)"
      ],
      "metadata": {
        "colab": {
          "base_uri": "https://localhost:8080/"
        },
        "id": "dTI72E_VAu4p",
        "outputId": "24fd28ca-0b27-4a2d-c3ac-23e35d6e3135"
      },
      "execution_count": 6,
      "outputs": [
        {
          "output_type": "stream",
          "name": "stdout",
          "text": [
            "Addition of num1 and num2 is 12\n",
            "Multiplication os num1 and num2 is  32\n"
          ]
        }
      ]
    },
    {
      "cell_type": "code",
      "source": [
        "Total_Time= 160\n",
        "Hour=Total_Time//60\n",
        "Minute= Total_Time%60\n",
        "Time=\"{}:{}\".format(Hour,Minute)\n",
        "print(Time)"
      ],
      "metadata": {
        "colab": {
          "base_uri": "https://localhost:8080/"
        },
        "id": "t7YM5s0QCJL-",
        "outputId": "171ff88a-d132-4485-bbe6-c174a1c549c7"
      },
      "execution_count": 8,
      "outputs": [
        {
          "output_type": "stream",
          "name": "stdout",
          "text": [
            "2:40\n"
          ]
        }
      ]
    },
    {
      "cell_type": "markdown",
      "source": [
        "### Below are the list of objectives to learn python\n",
        "\n",
        "##### To understand why Python is a useful scripting language for developers.\n",
        "##### To learn how to design and program Python applications.\n",
        "##### To learn how to use lists, tuples, and dictionaries in Python programs.\n",
        "##### To learn how to identify Python object types.\n",
        "##### To learn how to use indexing and slicing to access data in Python programs."
      ],
      "metadata": {
        "id": "rf2eLsOQDGOi"
      }
    },
    {
      "cell_type": "markdown",
      "source": [
        "### Name of the Author is Rashmi G Shukla"
      ],
      "metadata": {
        "id": "hq3hv_LRDblg"
      }
    }
  ]
}